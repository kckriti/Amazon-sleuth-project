{
 "cells": [
  {
   "cell_type": "code",
   "execution_count": 37,
   "id": "d2598dbe-4760-4559-a01b-e8f3a79e9c74",
   "metadata": {},
   "outputs": [],
   "source": [
    "import pandas as pd\n",
    "import numpy as np\n",
    "import matplotlib.pyplot as plt\n",
    "import seaborn as sns\n",
    "from transformers import AutoTokenizer, AutoModelForSequenceClassification, Trainer, TrainingArguments\n",
    "from datasets import Dataset\n",
    "#from evaluate import load_metric\n",
    "import torch\n",
    "from sklearn.model_selection import train_test_split\n",
    "from sklearn.metrics import accuracy_score, precision_recall_fscore_support, roc_auc_score"
   ]
  },
  {
   "cell_type": "code",
   "execution_count": 2,
   "id": "604baf12-2991-43fe-8369-83100ed38e19",
   "metadata": {},
   "outputs": [
    {
     "data": {
      "text/html": [
       "<div>\n",
       "<style scoped>\n",
       "    .dataframe tbody tr th:only-of-type {\n",
       "        vertical-align: middle;\n",
       "    }\n",
       "\n",
       "    .dataframe tbody tr th {\n",
       "        vertical-align: top;\n",
       "    }\n",
       "\n",
       "    .dataframe thead th {\n",
       "        text-align: right;\n",
       "    }\n",
       "</style>\n",
       "<table border=\"1\" class=\"dataframe\">\n",
       "  <thead>\n",
       "    <tr style=\"text-align: right;\">\n",
       "      <th></th>\n",
       "      <th>id</th>\n",
       "      <th>asins</th>\n",
       "      <th>brand</th>\n",
       "      <th>categories</th>\n",
       "      <th>colors</th>\n",
       "      <th>dateAdded</th>\n",
       "      <th>dateUpdated</th>\n",
       "      <th>dimension</th>\n",
       "      <th>ean</th>\n",
       "      <th>keys</th>\n",
       "      <th>...</th>\n",
       "      <th>reviews.rating</th>\n",
       "      <th>reviews.sourceURLs</th>\n",
       "      <th>reviews.text</th>\n",
       "      <th>reviews.title</th>\n",
       "      <th>reviews.userCity</th>\n",
       "      <th>reviews.userProvince</th>\n",
       "      <th>reviews.username</th>\n",
       "      <th>sizes</th>\n",
       "      <th>upc</th>\n",
       "      <th>weight</th>\n",
       "    </tr>\n",
       "  </thead>\n",
       "  <tbody>\n",
       "    <tr>\n",
       "      <th>0</th>\n",
       "      <td>AVpe7AsMilAPnD_xQ78G</td>\n",
       "      <td>B00QJDU3KY</td>\n",
       "      <td>Amazon</td>\n",
       "      <td>Amazon Devices,mazon.co.uk</td>\n",
       "      <td>NaN</td>\n",
       "      <td>2016-03-08T20:21:53Z</td>\n",
       "      <td>2017-07-18T23:52:58Z</td>\n",
       "      <td>169 mm x 117 mm x 9.1 mm</td>\n",
       "      <td>NaN</td>\n",
       "      <td>kindlepaperwhite/b00qjdu3ky</td>\n",
       "      <td>...</td>\n",
       "      <td>5.0</td>\n",
       "      <td>https://www.amazon.com/Kindle-Paperwhite-High-...</td>\n",
       "      <td>I initially had trouble deciding between the p...</td>\n",
       "      <td>Paperwhite voyage, no regrets!</td>\n",
       "      <td>NaN</td>\n",
       "      <td>NaN</td>\n",
       "      <td>Cristina M</td>\n",
       "      <td>NaN</td>\n",
       "      <td>NaN</td>\n",
       "      <td>205 grams</td>\n",
       "    </tr>\n",
       "    <tr>\n",
       "      <th>1</th>\n",
       "      <td>AVpe7AsMilAPnD_xQ78G</td>\n",
       "      <td>B00QJDU3KY</td>\n",
       "      <td>Amazon</td>\n",
       "      <td>Amazon Devices,mazon.co.uk</td>\n",
       "      <td>NaN</td>\n",
       "      <td>2016-03-08T20:21:53Z</td>\n",
       "      <td>2017-07-18T23:52:58Z</td>\n",
       "      <td>169 mm x 117 mm x 9.1 mm</td>\n",
       "      <td>NaN</td>\n",
       "      <td>kindlepaperwhite/b00qjdu3ky</td>\n",
       "      <td>...</td>\n",
       "      <td>5.0</td>\n",
       "      <td>https://www.amazon.com/Kindle-Paperwhite-High-...</td>\n",
       "      <td>Allow me to preface this with a little history...</td>\n",
       "      <td>One Simply Could Not Ask For More</td>\n",
       "      <td>NaN</td>\n",
       "      <td>NaN</td>\n",
       "      <td>Ricky</td>\n",
       "      <td>NaN</td>\n",
       "      <td>NaN</td>\n",
       "      <td>205 grams</td>\n",
       "    </tr>\n",
       "    <tr>\n",
       "      <th>2</th>\n",
       "      <td>AVpe7AsMilAPnD_xQ78G</td>\n",
       "      <td>B00QJDU3KY</td>\n",
       "      <td>Amazon</td>\n",
       "      <td>Amazon Devices,mazon.co.uk</td>\n",
       "      <td>NaN</td>\n",
       "      <td>2016-03-08T20:21:53Z</td>\n",
       "      <td>2017-07-18T23:52:58Z</td>\n",
       "      <td>169 mm x 117 mm x 9.1 mm</td>\n",
       "      <td>NaN</td>\n",
       "      <td>kindlepaperwhite/b00qjdu3ky</td>\n",
       "      <td>...</td>\n",
       "      <td>4.0</td>\n",
       "      <td>https://www.amazon.com/Kindle-Paperwhite-High-...</td>\n",
       "      <td>I am enjoying it so far. Great for reading. Ha...</td>\n",
       "      <td>Great for those that just want an e-reader</td>\n",
       "      <td>NaN</td>\n",
       "      <td>NaN</td>\n",
       "      <td>Tedd Gardiner</td>\n",
       "      <td>NaN</td>\n",
       "      <td>NaN</td>\n",
       "      <td>205 grams</td>\n",
       "    </tr>\n",
       "    <tr>\n",
       "      <th>3</th>\n",
       "      <td>AVpe7AsMilAPnD_xQ78G</td>\n",
       "      <td>B00QJDU3KY</td>\n",
       "      <td>Amazon</td>\n",
       "      <td>Amazon Devices,mazon.co.uk</td>\n",
       "      <td>NaN</td>\n",
       "      <td>2016-03-08T20:21:53Z</td>\n",
       "      <td>2017-07-18T23:52:58Z</td>\n",
       "      <td>169 mm x 117 mm x 9.1 mm</td>\n",
       "      <td>NaN</td>\n",
       "      <td>kindlepaperwhite/b00qjdu3ky</td>\n",
       "      <td>...</td>\n",
       "      <td>5.0</td>\n",
       "      <td>https://www.amazon.com/Kindle-Paperwhite-High-...</td>\n",
       "      <td>I bought one of the first Paperwhites and have...</td>\n",
       "      <td>Love / Hate relationship</td>\n",
       "      <td>NaN</td>\n",
       "      <td>NaN</td>\n",
       "      <td>Dougal</td>\n",
       "      <td>NaN</td>\n",
       "      <td>NaN</td>\n",
       "      <td>205 grams</td>\n",
       "    </tr>\n",
       "    <tr>\n",
       "      <th>4</th>\n",
       "      <td>AVpe7AsMilAPnD_xQ78G</td>\n",
       "      <td>B00QJDU3KY</td>\n",
       "      <td>Amazon</td>\n",
       "      <td>Amazon Devices,mazon.co.uk</td>\n",
       "      <td>NaN</td>\n",
       "      <td>2016-03-08T20:21:53Z</td>\n",
       "      <td>2017-07-18T23:52:58Z</td>\n",
       "      <td>169 mm x 117 mm x 9.1 mm</td>\n",
       "      <td>NaN</td>\n",
       "      <td>kindlepaperwhite/b00qjdu3ky</td>\n",
       "      <td>...</td>\n",
       "      <td>5.0</td>\n",
       "      <td>https://www.amazon.com/Kindle-Paperwhite-High-...</td>\n",
       "      <td>I have to say upfront - I don't like coroporat...</td>\n",
       "      <td>I LOVE IT</td>\n",
       "      <td>NaN</td>\n",
       "      <td>NaN</td>\n",
       "      <td>Miljan David Tanic</td>\n",
       "      <td>NaN</td>\n",
       "      <td>NaN</td>\n",
       "      <td>205 grams</td>\n",
       "    </tr>\n",
       "  </tbody>\n",
       "</table>\n",
       "<p>5 rows × 27 columns</p>\n",
       "</div>"
      ],
      "text/plain": [
       "                     id       asins   brand                  categories  \\\n",
       "0  AVpe7AsMilAPnD_xQ78G  B00QJDU3KY  Amazon  Amazon Devices,mazon.co.uk   \n",
       "1  AVpe7AsMilAPnD_xQ78G  B00QJDU3KY  Amazon  Amazon Devices,mazon.co.uk   \n",
       "2  AVpe7AsMilAPnD_xQ78G  B00QJDU3KY  Amazon  Amazon Devices,mazon.co.uk   \n",
       "3  AVpe7AsMilAPnD_xQ78G  B00QJDU3KY  Amazon  Amazon Devices,mazon.co.uk   \n",
       "4  AVpe7AsMilAPnD_xQ78G  B00QJDU3KY  Amazon  Amazon Devices,mazon.co.uk   \n",
       "\n",
       "  colors             dateAdded           dateUpdated  \\\n",
       "0    NaN  2016-03-08T20:21:53Z  2017-07-18T23:52:58Z   \n",
       "1    NaN  2016-03-08T20:21:53Z  2017-07-18T23:52:58Z   \n",
       "2    NaN  2016-03-08T20:21:53Z  2017-07-18T23:52:58Z   \n",
       "3    NaN  2016-03-08T20:21:53Z  2017-07-18T23:52:58Z   \n",
       "4    NaN  2016-03-08T20:21:53Z  2017-07-18T23:52:58Z   \n",
       "\n",
       "                  dimension  ean                         keys  ...  \\\n",
       "0  169 mm x 117 mm x 9.1 mm  NaN  kindlepaperwhite/b00qjdu3ky  ...   \n",
       "1  169 mm x 117 mm x 9.1 mm  NaN  kindlepaperwhite/b00qjdu3ky  ...   \n",
       "2  169 mm x 117 mm x 9.1 mm  NaN  kindlepaperwhite/b00qjdu3ky  ...   \n",
       "3  169 mm x 117 mm x 9.1 mm  NaN  kindlepaperwhite/b00qjdu3ky  ...   \n",
       "4  169 mm x 117 mm x 9.1 mm  NaN  kindlepaperwhite/b00qjdu3ky  ...   \n",
       "\n",
       "  reviews.rating                                 reviews.sourceURLs  \\\n",
       "0            5.0  https://www.amazon.com/Kindle-Paperwhite-High-...   \n",
       "1            5.0  https://www.amazon.com/Kindle-Paperwhite-High-...   \n",
       "2            4.0  https://www.amazon.com/Kindle-Paperwhite-High-...   \n",
       "3            5.0  https://www.amazon.com/Kindle-Paperwhite-High-...   \n",
       "4            5.0  https://www.amazon.com/Kindle-Paperwhite-High-...   \n",
       "\n",
       "                                        reviews.text  \\\n",
       "0  I initially had trouble deciding between the p...   \n",
       "1  Allow me to preface this with a little history...   \n",
       "2  I am enjoying it so far. Great for reading. Ha...   \n",
       "3  I bought one of the first Paperwhites and have...   \n",
       "4  I have to say upfront - I don't like coroporat...   \n",
       "\n",
       "                                reviews.title reviews.userCity  \\\n",
       "0              Paperwhite voyage, no regrets!              NaN   \n",
       "1           One Simply Could Not Ask For More              NaN   \n",
       "2  Great for those that just want an e-reader              NaN   \n",
       "3                    Love / Hate relationship              NaN   \n",
       "4                                   I LOVE IT              NaN   \n",
       "\n",
       "  reviews.userProvince    reviews.username  sizes upc     weight  \n",
       "0                  NaN          Cristina M    NaN NaN  205 grams  \n",
       "1                  NaN               Ricky    NaN NaN  205 grams  \n",
       "2                  NaN       Tedd Gardiner    NaN NaN  205 grams  \n",
       "3                  NaN              Dougal    NaN NaN  205 grams  \n",
       "4                  NaN  Miljan David Tanic    NaN NaN  205 grams  \n",
       "\n",
       "[5 rows x 27 columns]"
      ]
     },
     "execution_count": 2,
     "metadata": {},
     "output_type": "execute_result"
    }
   ],
   "source": [
    "# Load Dataset\n",
    "df = pd.read_csv(r\"C:\\Users\\Aakriti K C\\Desktop\\DA and AI\\project 5 amazon sleuth\\7817_1.csv\")\n",
    "\n",
    "df.head()"
   ]
  },
  {
   "cell_type": "code",
   "execution_count": 3,
   "id": "39070d2a-cdbd-405b-ae44-d1f2179b3e1f",
   "metadata": {},
   "outputs": [
    {
     "name": "stdout",
     "output_type": "stream",
     "text": [
      "<class 'pandas.core.frame.DataFrame'>\n",
      "RangeIndex: 1597 entries, 0 to 1596\n",
      "Data columns (total 27 columns):\n",
      " #   Column                Non-Null Count  Dtype  \n",
      "---  ------                --------------  -----  \n",
      " 0   id                    1597 non-null   object \n",
      " 1   asins                 1597 non-null   object \n",
      " 2   brand                 1597 non-null   object \n",
      " 3   categories            1597 non-null   object \n",
      " 4   colors                774 non-null    object \n",
      " 5   dateAdded             1597 non-null   object \n",
      " 6   dateUpdated           1597 non-null   object \n",
      " 7   dimension             565 non-null    object \n",
      " 8   ean                   898 non-null    float64\n",
      " 9   keys                  1597 non-null   object \n",
      " 10  manufacturer          965 non-null    object \n",
      " 11  manufacturerNumber    902 non-null    object \n",
      " 12  name                  1597 non-null   object \n",
      " 13  prices                1597 non-null   object \n",
      " 14  reviews.date          1217 non-null   object \n",
      " 15  reviews.doRecommend   539 non-null    object \n",
      " 16  reviews.numHelpful    900 non-null    float64\n",
      " 17  reviews.rating        1177 non-null   float64\n",
      " 18  reviews.sourceURLs    1597 non-null   object \n",
      " 19  reviews.text          1597 non-null   object \n",
      " 20  reviews.title         1580 non-null   object \n",
      " 21  reviews.userCity      0 non-null      float64\n",
      " 22  reviews.userProvince  0 non-null      float64\n",
      " 23  reviews.username      1580 non-null   object \n",
      " 24  sizes                 0 non-null      float64\n",
      " 25  upc                   898 non-null    float64\n",
      " 26  weight                686 non-null    object \n",
      "dtypes: float64(7), object(20)\n",
      "memory usage: 337.0+ KB\n"
     ]
    }
   ],
   "source": [
    "df.info()"
   ]
  },
  {
   "cell_type": "markdown",
   "id": "06743f47-4df9-46ba-ab48-fbe6c39bc1a0",
   "metadata": {},
   "source": [
    "Now, loading a dataset which contains English parts of speech to see what is the effect of removing adverbs and verbsfrom the Amazon reviews."
   ]
  },
  {
   "cell_type": "code",
   "execution_count": 5,
   "id": "633ed047-5d33-456c-be4f-f0644ab9e81c",
   "metadata": {},
   "outputs": [
    {
     "data": {
      "text/html": [
       "<div>\n",
       "<style scoped>\n",
       "    .dataframe tbody tr th:only-of-type {\n",
       "        vertical-align: middle;\n",
       "    }\n",
       "\n",
       "    .dataframe tbody tr th {\n",
       "        vertical-align: top;\n",
       "    }\n",
       "\n",
       "    .dataframe thead th {\n",
       "        text-align: right;\n",
       "    }\n",
       "</style>\n",
       "<table border=\"1\" class=\"dataframe\">\n",
       "  <thead>\n",
       "    <tr style=\"text-align: right;\">\n",
       "      <th></th>\n",
       "      <th>'tween</th>\n",
       "    </tr>\n",
       "  </thead>\n",
       "  <tbody>\n",
       "    <tr>\n",
       "      <th>0</th>\n",
       "      <td>'tween-decks</td>\n",
       "    </tr>\n",
       "    <tr>\n",
       "      <th>1</th>\n",
       "      <td>Byronically</td>\n",
       "    </tr>\n",
       "    <tr>\n",
       "      <th>2</th>\n",
       "      <td>Christian</td>\n",
       "    </tr>\n",
       "    <tr>\n",
       "      <th>3</th>\n",
       "      <td>Christianly</td>\n",
       "    </tr>\n",
       "    <tr>\n",
       "      <th>4</th>\n",
       "      <td>Fridays</td>\n",
       "    </tr>\n",
       "  </tbody>\n",
       "</table>\n",
       "</div>"
      ],
      "text/plain": [
       "         'tween\n",
       "0  'tween-decks\n",
       "1   Byronically\n",
       "2     Christian\n",
       "3   Christianly\n",
       "4       Fridays"
      ]
     },
     "execution_count": 5,
     "metadata": {},
     "output_type": "execute_result"
    }
   ],
   "source": [
    "# Read the English parts of speech data \n",
    "english_adverbs = pd.read_csv(r\"C:\\Users\\Aakriti K C\\Desktop\\DA and AI\\project 5 amazon sleuth\\adverbs.csv\")\n",
    "english_verbs = pd.read_csv(r\"C:\\Users\\Aakriti K C\\Desktop\\DA and AI\\project 5 amazon sleuth\\verbs.csv\")\n",
    "\n",
    "english_adverbs.head()"
   ]
  },
  {
   "cell_type": "code",
   "execution_count": 6,
   "id": "13e5cbc3-2944-44cd-b698-d56504887a20",
   "metadata": {},
   "outputs": [],
   "source": [
    "adverbs_list = english_adverbs[\"'tween\"].tolist()\n",
    "verbs_list = english_verbs[\"awake\"].tolist()"
   ]
  },
  {
   "cell_type": "code",
   "execution_count": 7,
   "id": "6ff5cc1d-ad4e-4ba8-9e27-3dc6f2c01476",
   "metadata": {},
   "outputs": [
    {
     "data": {
      "text/plain": [
       "<Axes: title={'center': 'Amazon Rating Distribution'}, xlabel='Ratings', ylabel='Percentage'>"
      ]
     },
     "execution_count": 7,
     "metadata": {},
     "output_type": "execute_result"
    },
    {
     "data": {
      "image/png": "[encoded data removed]",
      "text/plain": [
       "<Figure size 640x480 with 1 Axes>"
      ]
     },
     "metadata": {},
     "output_type": "display_data"
    }
   ],
   "source": [
    "reviews_nan_count = df['reviews.rating'].isna().sum()\n",
    "\n",
    "file1 = df.groupby('reviews.rating')['reviews.rating'].count().div(len(df)-reviews_nan_count).reset_index(name='count').sort_values(['count'],ascending= False).head(10)\n",
    "\n",
    "file1.plot(x=\"reviews.rating\",y='count',kind='bar',xlabel='Ratings',ylabel='Percentage',title='Amazon Rating Distribution')"
   ]
  },
  {
   "cell_type": "code",
   "execution_count": 8,
   "id": "61530efd-4ea7-458e-bd8b-2d84c96eedc8",
   "metadata": {},
   "outputs": [],
   "source": [
    "# Map ratings 1 and 2 TO 0 (negative), 3 TO 1 (neutral), 4 and 5 TO 2 (positive) \n",
    "sentiment_score = {1: 0,\n",
    "                   2: 0,\n",
    "                   3: 1,\n",
    "                   4: 2,\n",
    "                   5: 2}\n",
    "\n",
    "sentiment = {0: 'NEGATIVE',1: 'NEUTRAL',2: 'POSITIVE'}\n",
    "\n",
    "# Mapping (a 'sentiment' column is added)\n",
    "df['sentiment_score'] = df['reviews.rating'].map(sentiment_score)\n",
    "df['sentiment'] = df['sentiment_score'].map(sentiment)"
   ]
  },
  {
   "cell_type": "code",
   "execution_count": 9,
   "id": "6833002c-0449-4085-a6f7-2724840ac88a",
   "metadata": {},
   "outputs": [
    {
     "data": {
      "image/png": "[encoded data removed]",
      "text/plain": [
       "<Figure size 600x600 with 1 Axes>"
      ]
     },
     "metadata": {},
     "output_type": "display_data"
    }
   ],
   "source": [
    "# Plot the distribution of sentiment\n",
    "plt.figure(figsize = (6,6))\n",
    "\n",
    "labels = ['POSITIVE','NEUTRAL','NEGATIVE']\n",
    "cols = [\"#2ca02c\",\"#d62728\",\"#ff7f0e\"]\n",
    "plt.pie(df['sentiment'].value_counts(),autopct='%0.2f%%',colors=cols)\n",
    "\n",
    "plt.title('Distribution of sentiment', size=14, y=-0.01)\n",
    "plt.legend(labels, ncol=2, loc=9)\n",
    "plt.title(\"Sentiment Distribution of Amazon Products\")\n",
    "plt.show()"
   ]
  },
  {
   "cell_type": "code",
   "execution_count": 13,
   "id": "e67a173b-bc69-4de2-957b-70ca915dd51a",
   "metadata": {},
   "outputs": [],
   "source": [
    "# Split Data for Training and Testing\n",
    "train_texts, val_texts, train_labels, val_labels = train_test_split(\n",
    "    df['reviews.text'].tolist(), df['sentiment'].tolist(), test_size=0.2, random_state=42)"
   ]
  },
  {
   "cell_type": "code",
   "execution_count": 15,
   "id": "a9b038a2-9fbd-494e-b0d7-0874241c2d71",
   "metadata": {},
   "outputs": [
    {
     "name": "stderr",
     "output_type": "stream",
     "text": [
      "Some weights of DistilBertForSequenceClassification were not initialized from the model checkpoint at distilbert-base-uncased and are newly initialized: ['classifier.bias', 'classifier.weight', 'pre_classifier.bias', 'pre_classifier.weight']\n",
      "You should probably TRAIN this model on a down-stream task to be able to use it for predictions and inference.\n"
     ]
    }
   ],
   "source": [
    "# Load Pre-trained LLM (BERT)\n",
    "model_name = \"distilbert-base-uncased\"  # Can be changed to BERT, RoBERTa, or GPT\n",
    "model = AutoModelForSequenceClassification.from_pretrained(model_name, num_labels=2)\n",
    "tokenizer = AutoTokenizer.from_pretrained(model_name)"
   ]
  },
  {
   "cell_type": "code",
   "execution_count": 17,
   "id": "8a4c2362-b989-40c8-93bc-653e4f1723ec",
   "metadata": {},
   "outputs": [
    {
     "data": {
      "application/vnd.jupyter.widget-view+json": {
       "model_id": "afb203cdd67f40ab975ebf2e31d27d5d",
       "version_major": 2,
       "version_minor": 0
      },
      "text/plain": [
       "Map:   0%|          | 0/1277 [00:00<?, ? examples/s]"
      ]
     },
     "metadata": {},
     "output_type": "display_data"
    },
    {
     "data": {
      "application/vnd.jupyter.widget-view+json": {
       "model_id": "79697cd76a454e33a4a6c8e0802e7f6c",
       "version_major": 2,
       "version_minor": 0
      },
      "text/plain": [
       "Map:   0%|          | 0/320 [00:00<?, ? examples/s]"
      ]
     },
     "metadata": {},
     "output_type": "display_data"
    }
   ],
   "source": [
    "# Convert labels to integers\n",
    "label_mapping = {\"NEGATIVE\": 0, \"POSITIVE\": 1} \n",
    "train_labels = [label_mapping.get(label, 0) for label in train_labels] \n",
    "val_labels = [label_mapping.get(label, 0) for label in val_labels]\n",
    "\n",
    "train_dataset = Dataset.from_dict({\"text\": train_texts, \"label\": train_labels})\n",
    "val_dataset = Dataset.from_dict({\"text\": val_texts, \"label\": val_labels})\n",
    "\n",
    "# Tokenization\n",
    "def tokenize_function(examples):\n",
    "    return tokenizer(examples[\"text\"], padding=\"max_length\", truncation=True)\n",
    "\n",
    "train_dataset = train_dataset.map(tokenize_function, batched=True)\n",
    "val_dataset = val_dataset.map(tokenize_function, batched=True)"
   ]
  },
  {
   "cell_type": "code",
   "execution_count": 19,
   "id": "aed790ec-8b5c-43ce-8cc9-c7743d3614d6",
   "metadata": {},
   "outputs": [
    {
     "name": "stderr",
     "output_type": "stream",
     "text": [
      "C:\\Users\\Aakriti K C\\AppData\\Roaming\\Python\\Python312\\site-packages\\transformers\\training_args.py:1575: FutureWarning: `evaluation_strategy` is deprecated and will be removed in version 4.46 of 🤗 Transformers. Use `eval_strategy` instead\n",
      "  warnings.warn(\n"
     ]
    }
   ],
   "source": [
    "# Training Arguments\n",
    "training_args = TrainingArguments(\n",
    "    output_dir=\"./results\",\n",
    "    evaluation_strategy=\"epoch\",\n",
    "    save_strategy=\"epoch\",\n",
    "    learning_rate=2e-5,\n",
    "    per_device_train_batch_size=16,\n",
    "    per_device_eval_batch_size=16,\n",
    "    num_train_epochs=3,\n",
    "    weight_decay=0.01,\n",
    "    logging_dir=\"./logs\",\n",
    "    logging_steps=10,\n",
    "    load_best_model_at_end=True,\n",
    "    metric_for_best_model=\"f1\",\n",
    ")"
   ]
  },
  {
   "cell_type": "code",
   "execution_count": 41,
   "id": "9cce807a-0db9-4068-9bee-d140d9b76d9b",
   "metadata": {},
   "outputs": [],
   "source": [
    "# Define Trainer\n",
    "def compute_metrics(eval_pred):\n",
    "    logits, labels = eval_pred\n",
    "    predictions = np.argmax(logits, axis=-1)\n",
    "    acc = accuracy_score(labels, predictions)\n",
    "    precision, recall, f1, _ = precision_recall_fscore_support(labels, predictions, average=\"binary\")\n",
    "    auc = roc_auc_score(labels, predictions) \n",
    "    return {\"accuracy\": acc, \"precision\": precision, \"recall\": recall, \"f1\": f1, \"auc\": auc}\n",
    "\n",
    "trainer = Trainer(\n",
    "    model=model,\n",
    "    args=training_args,\n",
    "    train_dataset=train_dataset,\n",
    "    eval_dataset=val_dataset,\n",
    "    compute_metrics=compute_metrics,\n",
    ")"
   ]
  },
  {
   "cell_type": "code",
   "execution_count": 43,
   "id": "50bcea85-19a2-4c43-a5a1-f59cd665a35c",
   "metadata": {},
   "outputs": [
    {
     "data": {
      "text/html": [
       "\n",
       "    <div>\n",
       "      \n",
       "      <progress value='240' max='240' style='width:300px; height:20px; vertical-align: middle;'></progress>\n",
       "      [240/240 5:36:37, Epoch 3/3]\n",
       "    </div>\n",
       "    <table border=\"1\" class=\"dataframe\">\n",
       "  <thead>\n",
       " <tr style=\"text-align: left;\">\n",
       "      <th>Epoch</th>\n",
       "      <th>Training Loss</th>\n",
       "      <th>Validation Loss</th>\n",
       "      <th>Accuracy</th>\n",
       "      <th>Precision</th>\n",
       "      <th>Recall</th>\n",
       "      <th>F1</th>\n",
       "      <th>Auc</th>\n",
       "    </tr>\n",
       "  </thead>\n",
       "  <tbody>\n",
       "    <tr>\n",
       "      <td>1</td>\n",
       "      <td>0.484600</td>\n",
       "      <td>0.506992</td>\n",
       "      <td>0.718750</td>\n",
       "      <td>0.833333</td>\n",
       "      <td>0.693069</td>\n",
       "      <td>0.756757</td>\n",
       "      <td>0.727891</td>\n",
       "    </tr>\n",
       "    <tr>\n",
       "      <td>2</td>\n",
       "      <td>0.407000</td>\n",
       "      <td>0.483164</td>\n",
       "      <td>0.759375</td>\n",
       "      <td>0.869822</td>\n",
       "      <td>0.727723</td>\n",
       "      <td>0.792453</td>\n",
       "      <td>0.770641</td>\n",
       "    </tr>\n",
       "    <tr>\n",
       "      <td>3</td>\n",
       "      <td>0.352600</td>\n",
       "      <td>0.491733</td>\n",
       "      <td>0.743750</td>\n",
       "      <td>0.848837</td>\n",
       "      <td>0.722772</td>\n",
       "      <td>0.780749</td>\n",
       "      <td>0.751217</td>\n",
       "    </tr>\n",
       "  </tbody>\n",
       "</table><p>"
      ],
      "text/plain": [
       "<IPython.core.display.HTML object>"
      ]
     },
     "metadata": {},
     "output_type": "display_data"
    },
    {
     "data": {
      "text/plain": [
       "TrainOutput(global_step=240, training_loss=0.46387925148010256, metrics={'train_runtime': 20246.2918, 'train_samples_per_second': 0.189, 'train_steps_per_second': 0.012, 'total_flos': 507482604251136.0, 'train_loss': 0.46387925148010256, 'epoch': 3.0})"
      ]
     },
     "execution_count": 43,
     "metadata": {},
     "output_type": "execute_result"
    }
   ],
   "source": [
    "# Fine-tune Model\n",
    "trainer.train()"
   ]
  },
  {
   "cell_type": "code",
   "execution_count": 45,
   "id": "b3f54a69-e979-4de9-92fe-2faabd3313eb",
   "metadata": {},
   "outputs": [
    {
     "data": {
      "text/html": [
       "\n",
       "    <div>\n",
       "      \n",
       "      <progress value='20' max='20' style='width:300px; height:20px; vertical-align: middle;'></progress>\n",
       "      [20/20 04:20]\n",
       "    </div>\n",
       "    "
      ],
      "text/plain": [
       "<IPython.core.display.HTML object>"
      ]
     },
     "metadata": {},
     "output_type": "display_data"
    },
    {
     "data": {
      "text/plain": [
       "{'eval_loss': 0.48316383361816406,\n",
       " 'eval_accuracy': 0.759375,\n",
       " 'eval_precision': 0.8698224852071006,\n",
       " 'eval_recall': 0.7277227722772277,\n",
       " 'eval_f1': 0.7924528301886793,\n",
       " 'eval_auc': 0.7706410471555631,\n",
       " 'eval_runtime': 272.543,\n",
       " 'eval_samples_per_second': 1.174,\n",
       " 'eval_steps_per_second': 0.073,\n",
       " 'epoch': 3.0}"
      ]
     },
     "execution_count": 45,
     "metadata": {},
     "output_type": "execute_result"
    }
   ],
   "source": [
    "# Model Evaluation\n",
    "trainer.evaluate()"
   ]
  },
  {
   "cell_type": "code",
   "execution_count": 47,
   "id": "ef7629de-4be8-4e44-b87d-9d4d990cdb31",
   "metadata": {},
   "outputs": [],
   "source": [
    "# Save the Model\n",
    "trainer.save_model(r\"C:\\Users\\Aakriti K C\\Desktop\\DA and AI\\project 5 amazon sleuth\\fine_tuned_model\")"
   ]
  },
  {
   "cell_type": "code",
   "execution_count": null,
   "id": "341f5109-767a-4420-b37d-2238f1259aa5",
   "metadata": {},
   "outputs": [],
   "source": [
    "import torch\n",
    "from transformers import pipeline\n",
    "\n",
    "# Load fine-tuned model and tokenizer\n",
    "from transformers import AutoTokenizer, AutoModelForSequenceClassification\n",
    "\n",
    "model_name = \"fine_tuned_distilbert_amazon_reviews\"\n",
    "tokenizer = AutoTokenizer.from_pretrained(model_name)\n",
    "model = AutoModelForSequenceClassification.from_pretrained(model_name)\n",
    "\n",
    "# Define sentiment classification pipeline\n",
    "def sentiment_classification_pipeline(reviews, batch_size=32):\n",
    "    \"\"\"\n",
    "    Takes raw product reviews and outputs sentiment scores or labels.\n",
    "\n",
    "    Args:\n",
    "        reviews (list): List of raw product reviews.\n",
    "        batch_size (int): Batch size for processing.\n",
    "\n",
    "    Returns:\n",
    "        list: Sentiment labels or scores.\n",
    "    \"\"\"\n",
    "    sentiment_pipeline = pipeline(\"sentiment-analysis\", model=model, tokenizer=tokenizer)\n",
    "    results = []\n",
    "    for i in range(0, len(reviews), batch_size):\n",
    "        batch_reviews = reviews[i:i + batch_size]\n",
    "        results.extend(sentiment_pipeline(batch_reviews))\n",
    "    return results\n"
   ]
  },
  {
   "cell_type": "code",
   "execution_count": null,
   "id": "c949ae2c-d8e0-428f-bcab-50edee2d978a",
   "metadata": {},
   "outputs": [],
   "source": [
    "def aggregate_sentiments(reviews, sentiment_results):\n",
    "    \"\"\"\n",
    "    Aggregate sentiment results for individual products or categories.\n",
    "\n",
    "    Args:\n",
    "        reviews (pd.DataFrame): DataFrame with raw reviews and metadata (e.g., product, category, time).\n",
    "        sentiment_results (list): Sentiment predictions.\n",
    "\n",
    "    Returns:\n",
    "        pd.DataFrame: Aggregated sentiment statistics.\n",
    "    \"\"\"\n",
    "    # Add sentiment results to reviews\n",
    "    reviews['Sentiment'] = [result['label'] for result in sentiment_results]\n",
    "    reviews['Score'] = [result['score'] for result in sentiment_results]\n",
    "\n",
    "    # Group and compute summary statistics\n",
    "    aggregated_data = reviews.groupby(['Product', 'Category', 'TimePeriod']).agg({\n",
    "        'Sentiment': lambda x: x.value_counts(normalize=True).to_dict(),\n",
    "        'Score': ['mean', 'std']\n",
    "    }).reset_index()\n",
    "\n",
    "    return aggregated_data\n",
    "\n",
    "# sentiment_results = sentiment_classification_pipeline(reviews_df['ReviewText'].tolist())\n",
    "# aggregated_results = aggregate_sentiments(reviews_df, sentiment_results)\n"
   ]
  },
  {
   "cell_type": "code",
   "execution_count": null,
   "id": "7e5a6273-1847-4618-ad93-83586538fb02",
   "metadata": {},
   "outputs": [],
   "source": [
    "import matplotlib.pyplot as plt\n",
    "import seaborn as sns\n",
    "from wordcloud import WordCloud\n",
    "\n",
    "# Visualize sentiment distribution\n",
    "def plot_sentiment_distribution(reviews):\n",
    "    \"\"\"\n",
    "    Plot sentiment distribution as bar charts or pie charts.\n",
    "\n",
    "    Args:\n",
    "        reviews (pd.DataFrame): DataFrame with sentiment predictions.\n",
    "    \"\"\"\n",
    "    sentiment_counts = reviews['Sentiment'].value_counts()\n",
    "    plt.figure(figsize=(8, 6))\n",
    "    sns.barplot(x=sentiment_counts.index, y=sentiment_counts.values, palette=\"viridis\")\n",
    "    plt.title(\"Sentiment Distribution\")\n",
    "    plt.xlabel(\"Sentiment\")\n",
    "    plt.ylabel(\"Frequency\")\n",
    "    plt.show()\n",
    "\n",
    "# Time-series sentiment trend\n",
    "def plot_sentiment_trends(aggregated_results):\n",
    "    \"\"\"\n",
    "    Plot time-series sentiment trends.\n",
    "\n",
    "    Args:\n",
    "        aggregated_results (pd.DataFrame): Aggregated sentiment statistics.\n",
    "    \"\"\"\n",
    "    plt.figure(figsize=(10, 6))\n",
    "    for sentiment, color in zip(['POSITIVE', 'NEGATIVE', 'NEUTRAL'], ['green', 'red', 'blue']):\n",
    "        sentiment_trend = aggregated_results.groupby('TimePeriod')['Sentiment'].apply(lambda x: x.get(sentiment, 0))\n",
    "        plt.plot(sentiment_trend, label=sentiment, color=color)\n",
    "\n",
    "    plt.title(\"Sentiment Trends Over Time\")\n",
    "    plt.xlabel(\"Time Period\")\n",
    "    plt.ylabel(\"Proportion of Reviews\")\n",
    "    plt.legend()\n",
    "    plt.show()\n",
    "\n",
    "# Word clouds for positive/negative reviews\n",
    "def plot_wordcloud(reviews, sentiment):\n",
    "    \"\"\"\n",
    "    Generate word clouds for frequent terms in positive or negative reviews.\n",
    "\n",
    "    Args:\n",
    "        reviews (pd.DataFrame): DataFrame with review text and sentiment.\n",
    "        sentiment (str): Sentiment to filter reviews (e.g., 'POSITIVE' or 'NEGATIVE').\n",
    "    \"\"\"\n",
    "    text = \" \".join(reviews.loc[reviews['Sentiment'] == sentiment, 'ReviewText'].tolist())\n",
    "    wordcloud = WordCloud(width=800, height=400, background_color='white').generate(text)\n",
    "\n",
    "    plt.figure(figsize=(10, 6))\n",
    "    plt.imshow(wordcloud, interpolation='bilinear')\n",
    "    plt.title(f\"Word Cloud for {sentiment} Reviews\")\n",
    "    plt.axis(\"off\")\n",
    "    plt.show()\n",
    "\n",
    "# plot_sentiment_distribution(reviews_df)\n",
    "# plot_sentiment_trends(aggregated_results)\n",
    "# plot_wordcloud(reviews_df, 'POSITIVE')\n"
   ]
  },
  {
   "cell_type": "code",
   "execution_count": null,
   "id": "378d8d9e-6451-40ee-b2f5-b4c425cdf63b",
   "metadata": {},
   "outputs": [],
   "source": [
    "from collections import Counter\n",
    "import pandas as pd\n",
    "\n",
    "def analyze_aggregated_results(aggregated_data, reviews):\n",
    "    \"\"\"\n",
    "    Derive actionable insights from aggregated sentiment results and raw reviews.\n",
    "\n",
    "    Args:\n",
    "        aggregated_data (pd.DataFrame): Aggregated sentiment statistics.\n",
    "        reviews (pd.DataFrame): Raw reviews with sentiment predictions.\n",
    "\n",
    "    Returns:\n",
    "        dict: Insights categorized by themes (e.g., issues, popular features).\n",
    "    \"\"\"\n",
    "    # Extract frequent terms and themes from positive and negative reviews\n",
    "    positive_reviews = reviews.loc[reviews['Sentiment'] == 'POSITIVE', 'ReviewText']\n",
    "    negative_reviews = reviews.loc[reviews['Sentiment'] == 'NEGATIVE', 'ReviewText']\n",
    "\n",
    "    # Tokenize and count words\n",
    "    positive_words = Counter(\" \".join(positive_reviews).lower().split())\n",
    "    negative_words = Counter(\" \".join(negative_reviews).lower().split())\n",
    "\n",
    "    # Identify top themes\n",
    "    positive_themes = positive_words.most_common(10)\n",
    "    negative_themes = negative_words.most_common(10)\n",
    "\n",
    "    # Highlight opportunities and concerns\n",
    "    opportunities = [theme for theme in positive_themes if theme[0] not in negative_words]\n",
    "    concerns = [theme for theme in negative_themes if theme[0] not in positive_words]\n",
    "\n",
    "    # Sentiment trends over time\n",
    "    sentiment_trends = aggregated_data.groupby('TimePeriod')['Sentiment'].apply(lambda x: x.value_counts(normalize=True).to_dict())\n",
    "\n",
    "    return {\n",
    "        \"Opportunities\": opportunities,\n",
    "        \"Concerns\": concerns,\n",
    "        \"Sentiment_Trends\": sentiment_trends.to_dict()\n",
    "    }\n",
    "\n",
    "# insights = analyze_aggregated_results(aggregated_results, reviews_df)"
   ]
  },
  {
   "cell_type": "code",
   "execution_count": null,
   "id": "c2f0bb0b-4965-4def-a0e7-1abc40e7472e",
   "metadata": {},
   "outputs": [],
   "source": [
    "def generate_actionable_recommendations(insights):\n",
    "    \"\"\"\n",
    "    Generate actionable recommendations based on sentiment insights.\n",
    "\n",
    "    Args:\n",
    "        insights (dict): Insights derived from sentiment analysis.\n",
    "\n",
    "    Returns:\n",
    "        pd.DataFrame: Business-focused recommendations.\n",
    "    \"\"\"\n",
    "    recommendations = []\n",
    "\n",
    "    # Address concerns\n",
    "    for theme, freq in insights['Concerns']:\n",
    "        recommendations.append({\n",
    "            \"Area\": \"Improvement\",\n",
    "            \"Theme\": theme,\n",
    "            \"Frequency\": freq,\n",
    "            \"Recommendation\": f\"Investigate and address the issue related to '{theme}' to improve customer satisfaction.\"\n",
    "        })\n",
    "\n",
    "    # Leverage opportunities\n",
    "    for theme, freq in insights['Opportunities']:\n",
    "        recommendations.append({\n",
    "            \"Area\": \"Engagement\",\n",
    "            \"Theme\": theme,\n",
    "            \"Frequency\": freq,\n",
    "            \"Recommendation\": f\"Promote and highlight the positive feedback around '{theme}' to attract more customers.\"\n",
    "        })\n",
    "\n",
    "    return pd.DataFrame(recommendations)\n",
    "\n",
    "# recommendations_df = generate_actionable_recommendations(insights)"
   ]
  }
 ],
 "metadata": {
  "kernelspec": {
   "display_name": "Python 3 (ipykernel)",
   "language": "python",
   "name": "python3"
  },
  "language_info": {
   "codemirror_mode": {
    "name": "ipython",
    "version": 3
   },
   "file_extension": ".py",
   "mimetype": "text/x-python",
   "name": "python",
   "nbconvert_exporter": "python",
   "pygments_lexer": "ipython3",
   "version": "3.12.7"
  }
 },
 "nbformat": 4,
 "nbformat_minor": 5
}
